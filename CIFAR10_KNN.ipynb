{
 "cells": [
  {
   "cell_type": "markdown",
   "metadata": {},
   "source": [
    "# ECE 523 Final Project: KNN Classifier "
   ]
  },
  {
   "cell_type": "code",
   "execution_count": 1,
   "metadata": {},
   "outputs": [
    {
     "name": "stderr",
     "output_type": "stream",
     "text": [
      "2024-05-05 13:56:19.275653: I external/local_tsl/tsl/cuda/cudart_stub.cc:32] Could not find cuda drivers on your machine, GPU will not be used.\n",
      "2024-05-05 13:56:19.281424: I external/local_tsl/tsl/cuda/cudart_stub.cc:32] Could not find cuda drivers on your machine, GPU will not be used.\n",
      "2024-05-05 13:56:20.599156: W tensorflow/compiler/tf2tensorrt/utils/py_utils.cc:38] TF-TRT Warning: Could not find TensorRT\n"
     ]
    }
   ],
   "source": [
    "#Imports______________________________________________________________\n",
    "import numpy as np\n",
    "import matplotlib.pyplot as plt\n",
    "from tensorflow import keras\n",
    "from sklearn.metrics import accuracy_score\n",
    "from keras.datasets import cifar10\n",
    "from tqdm import tqdm #for progress bars\n",
    "import matplotlib\n",
    "matplotlib.rcParams.update({'text.usetex': True, \n",
    "                            'font.family': 'Computer Modern Roman'})\n",
    "import warnings\n",
    "warnings.filterwarnings('ignore')"
   ]
  },
  {
   "cell_type": "code",
   "execution_count": 2,
   "metadata": {},
   "outputs": [
    {
     "name": "stdout",
     "output_type": "stream",
     "text": [
      "(50000, 32, 32, 3)\n",
      "(50000, 1)\n"
     ]
    }
   ],
   "source": [
    "#Load in data, Normalize and format\n",
    "(train_images, train_labels), (test_images, test_labels) = cifar10.load_data()\n",
    "\n",
    "#Normalize and format\n",
    "train_images = train_images / 255 \n",
    "test_images  = test_images / 255\n",
    "\n",
    "#Check data dimensions\n",
    "print(train_images.shape)\n",
    "print(train_labels.shape) "
   ]
  },
  {
   "cell_type": "code",
   "execution_count": 3,
   "metadata": {},
   "outputs": [
    {
     "name": "stdout",
     "output_type": "stream",
     "text": [
      "(10000, 3072)\n"
     ]
    }
   ],
   "source": [
    "#Reshape data: flatten individual 32x32x3 vectors to 1d vectors of length 32*32*3=3072  \n",
    "train_img = np.reshape(train_images, (train_images.shape[0], -1)).astype(\"float\")\n",
    "test_img = np.reshape(test_images, (test_images.shape[0], -1)).astype(\"float\")\n",
    "print(test_img.shape)"
   ]
  },
  {
   "cell_type": "code",
   "execution_count": 5,
   "metadata": {},
   "outputs": [],
   "source": [
    "#Define the K Nearest Neighbor classifer:\n",
    "class KNN(object):\n",
    "    def __init__(self):\n",
    "        pass\n",
    "    def fit(self, x, y):\n",
    "        \"\"\"\n",
    "        Load in training data. \n",
    "        ______________________\n",
    "        x: training data\n",
    "        y: training labels\n",
    "        \"\"\"\n",
    "        self.traindata = x\n",
    "        self.trainlabels = y\n",
    "    \n",
    "    def distances(self, x):\n",
    "        \"\"\" \n",
    "        Compute Euclidean distances between training and test data \n",
    "        in feature space. \n",
    "        Makes use of broadcasting for efficiency, motivated by \n",
    "        https://ryli.design/blog/knn\n",
    "        and \n",
    "        https://cs231n.github.io/classification/.\n",
    "        ___________________________________________________________\n",
    "        x: test data\n",
    "\n",
    "        returns: d, euclidean distances between each training and \n",
    "                 test vector ( shape ( x.shape[0], self.traindata.shape[0] ) )\n",
    "        \"\"\"\n",
    "        d = np.sqrt(np.sum(np.square(self.traindata), axis=1) +\n",
    "                    np.sum(np.square(x), axis=1)[:, np.newaxis] -\n",
    "                    2 * np.dot(x, self.traindata.T))\n",
    "        return d\n",
    "    \n",
    "    def predict(self, dists, k=5):\n",
    "        \"\"\" \n",
    "        Predict labels of input testing data. \n",
    "        _____________________________________\n",
    "        dists: Euclidean distances between \n",
    "               test and train data. \n",
    "        k:     Integer number of nearest neighbors\n",
    "               to consider for label prediction. \n",
    "\n",
    "        returns: label predictions for test data. \n",
    "        \"\"\"\n",
    "        nearest_labels=[]\n",
    "        print('Predicting labels...')\n",
    "        for i in tqdm(range(dists.shape[0])):\n",
    "\n",
    "            #sort and collect nearest K distances\n",
    "            cd = np.argsort(dists[i])[0:k] \n",
    "\n",
    "            #select most common labels from K Nearest neighbors\n",
    "            nearest_label = self.trainlabels[ cd ]\n",
    "            nearest_labels.append(np.argmax(np.bincount(nearest_label[:, 0])))\n",
    "        \n",
    "        nearest_labels=np.array(nearest_labels)\n",
    "        return nearest_labels\n",
    "    \n",
    "    def evaluate(self, x, y, k=5):\n",
    "        \"\"\" \n",
    "        Evaluate accuracy of classification for a value of k. \n",
    "        _____________________________________________________\n",
    "        x: test data\n",
    "        y: test labels\n",
    "        k: Integer number of nearest neighbors to consider for\n",
    "           label prediction. \n",
    "        \"\"\"\n",
    "        dists = self.distances(x)\n",
    "        preds = self.predict(dists, k=k)\n",
    "        score = accuracy_score(y, preds)\n",
    "\n",
    "        n_corr = np.sum(preds == y)\n",
    "        n_tot  = x.shape[0]\n",
    "        print('Accuracy: {:.3f}%'.format(100*score))\n",
    "        return score, n_corr, n_tot"
   ]
  },
  {
   "cell_type": "code",
   "execution_count": 12,
   "metadata": {},
   "outputs": [
    {
     "name": "stdout",
     "output_type": "stream",
     "text": [
      "Predicting labels...\n"
     ]
    },
    {
     "name": "stderr",
     "output_type": "stream",
     "text": [
      "100%|██████████| 10000/10000 [00:41<00:00, 238.18it/s]\n"
     ]
    },
    {
     "name": "stdout",
     "output_type": "stream",
     "text": [
      "Accuracy: 33.580%\n"
     ]
    },
    {
     "data": {
      "text/plain": [
       "(0.3358, 10000000, 10000)"
      ]
     },
     "execution_count": 12,
     "metadata": {},
     "output_type": "execute_result"
    }
   ],
   "source": [
    "clf = KNN()\n",
    "clf.fit(train_img, train_labels)\n",
    "clf.evaluate(test_img, test_labels, k=7)"
   ]
  },
  {
   "cell_type": "code",
   "execution_count": 44,
   "metadata": {},
   "outputs": [
    {
     "name": "stdout",
     "output_type": "stream",
     "text": [
      "0.1027\n",
      "              precision    recall  f1-score   support\n",
      "\n",
      "           0       0.09      0.12      0.10      1000\n",
      "           1       0.07      0.02      0.03      1000\n",
      "           2       0.11      0.18      0.13      1000\n",
      "           3       0.10      0.08      0.09      1000\n",
      "           4       0.11      0.21      0.14      1000\n",
      "           5       0.10      0.07      0.08      1000\n",
      "           6       0.10      0.12      0.11      1000\n",
      "           7       0.10      0.04      0.06      1000\n",
      "           8       0.12      0.18      0.14      1000\n",
      "           9       0.06      0.01      0.02      1000\n",
      "\n",
      "    accuracy                           0.10     10000\n",
      "   macro avg       0.10      0.10      0.09     10000\n",
      "weighted avg       0.10      0.10      0.09     10000\n",
      "\n",
      "[[117  25 157  70 203  62 121  56 160  29]\n",
      " [131  19 173  91 183  72  92  44 162  33]\n",
      " [118  31 181  68 218  69 108  38 147  22]\n",
      " [112  37 182  77 202  68 110  34 151  27]\n",
      " [120  18 163  55 209  86 129  39 143  38]\n",
      " [127  21 171  65 186  68 122  49 158  33]\n",
      " [135  20 176  69 206  66 117  50 141  20]\n",
      " [129  28 182  74 185  66 104  43 165  24]\n",
      " [131  33 160  72 188  49 116  41 181  29]\n",
      " [137  26 168  98 190  59 110  41 156  15]]\n"
     ]
    }
   ],
   "source": [
    "from sklearn.metrics import classification_report\n",
    "from sklearn.metrics import confusion_matrix\n",
    "\n",
    "print(accuracy_score(test_labels, preds))\n",
    "print(classification_report(test_labels, preds))\n",
    "print(confusion_matrix(test_labels, preds))"
   ]
  },
  {
   "cell_type": "code",
   "execution_count": 15,
   "metadata": {},
   "outputs": [
    {
     "name": "stdout",
     "output_type": "stream",
     "text": [
      "Predicting labels...\n"
     ]
    },
    {
     "name": "stderr",
     "output_type": "stream",
     "text": [
      "100%|██████████| 10000/10000 [00:41<00:00, 238.52it/s]\n"
     ]
    },
    {
     "name": "stdout",
     "output_type": "stream",
     "text": [
      "0.3358\n"
     ]
    },
    {
     "data": {
      "text/plain": [
       "Text(0.5, 1.0, 'KNN Confusion')"
      ]
     },
     "execution_count": 15,
     "metadata": {},
     "output_type": "execute_result"
    },
    {
     "data": {
      "image/png": "[encoded data removed]",
      "text/plain": [
       "<Figure size 640x480 with 2 Axes>"
      ]
     },
     "metadata": {},
     "output_type": "display_data"
    }
   ],
   "source": [
    "from sklearn.metrics import ConfusionMatrixDisplay, confusion_matrix \n",
    "\n",
    "clf = KNN()\n",
    "clf.fit(train_img, train_labels)\n",
    "ds = clf.distances(test_img)\n",
    "preds = clf.predict(ds, k=7)\n",
    "print(accuracy_score(test_labels, preds))\n",
    "cm = confusion_matrix(test_labels, preds)\n",
    "\n",
    "CM = ConfusionMatrixDisplay(cm)\n",
    "CM.plot()\n",
    "plt.title('KNN Confusion')"
   ]
  },
  {
   "cell_type": "code",
   "execution_count": 42,
   "metadata": {},
   "outputs": [
    {
     "name": "stderr",
     "output_type": "stream",
     "text": [
      "  0%|          | 0/20 [00:00<?, ?it/s]"
     ]
    },
    {
     "name": "stdout",
     "output_type": "stream",
     "text": [
      "Predicting labels...\n"
     ]
    },
    {
     "name": "stderr",
     "output_type": "stream",
     "text": [
      "100%|██████████| 10000/10000 [00:42<00:00, 235.04it/s]\n",
      "  5%|▌         | 1/20 [00:42<13:28, 42.55s/it]"
     ]
    },
    {
     "name": "stdout",
     "output_type": "stream",
     "text": [
      "Accuracy for k=1: 35.39%\n",
      "Predicting labels...\n"
     ]
    },
    {
     "name": "stderr",
     "output_type": "stream",
     "text": [
      "100%|██████████| 10000/10000 [00:42<00:00, 236.57it/s]\n",
      " 10%|█         | 2/20 [01:24<12:43, 42.39s/it]"
     ]
    },
    {
     "name": "stdout",
     "output_type": "stream",
     "text": [
      "Accuracy for k=2: 31.16%\n",
      "Predicting labels...\n"
     ]
    },
    {
     "name": "stderr",
     "output_type": "stream",
     "text": [
      "100%|██████████| 10000/10000 [00:42<00:00, 236.71it/s]\n",
      " 15%|█▌        | 3/20 [02:07<11:59, 42.33s/it]"
     ]
    },
    {
     "name": "stdout",
     "output_type": "stream",
     "text": [
      "Accuracy for k=3: 33.03%\n",
      "Predicting labels...\n"
     ]
    },
    {
     "name": "stderr",
     "output_type": "stream",
     "text": [
      "100%|██████████| 10000/10000 [00:42<00:00, 236.85it/s]\n",
      " 20%|██        | 4/20 [02:49<11:16, 42.29s/it]"
     ]
    },
    {
     "name": "stdout",
     "output_type": "stream",
     "text": [
      "Accuracy for k=4: 33.98%\n",
      "Predicting labels...\n"
     ]
    },
    {
     "name": "stderr",
     "output_type": "stream",
     "text": [
      "100%|██████████| 10000/10000 [00:42<00:00, 236.44it/s]\n",
      " 25%|██▌       | 5/20 [03:31<10:34, 42.29s/it]"
     ]
    },
    {
     "name": "stdout",
     "output_type": "stream",
     "text": [
      "Accuracy for k=5: 33.98%\n",
      "Predicting labels...\n"
     ]
    },
    {
     "name": "stderr",
     "output_type": "stream",
     "text": [
      "100%|██████████| 10000/10000 [00:42<00:00, 236.88it/s]\n",
      " 30%|███       | 6/20 [04:13<09:51, 42.27s/it]"
     ]
    },
    {
     "name": "stdout",
     "output_type": "stream",
     "text": [
      "Accuracy for k=6: 34.0%\n",
      "Predicting labels...\n"
     ]
    },
    {
     "name": "stderr",
     "output_type": "stream",
     "text": [
      "100%|██████████| 10000/10000 [00:42<00:00, 236.64it/s]\n",
      " 35%|███▌      | 7/20 [04:56<09:09, 42.27s/it]"
     ]
    },
    {
     "name": "stdout",
     "output_type": "stream",
     "text": [
      "Accuracy for k=7: 33.58%\n",
      "Predicting labels...\n"
     ]
    },
    {
     "name": "stderr",
     "output_type": "stream",
     "text": [
      "100%|██████████| 10000/10000 [00:42<00:00, 236.80it/s]\n",
      " 40%|████      | 8/20 [05:38<08:27, 42.26s/it]"
     ]
    },
    {
     "name": "stdout",
     "output_type": "stream",
     "text": [
      "Accuracy for k=8: 34.150000000000006%\n",
      "Predicting labels...\n"
     ]
    },
    {
     "name": "stderr",
     "output_type": "stream",
     "text": [
      "100%|██████████| 10000/10000 [00:42<00:00, 236.67it/s]\n",
      " 45%|████▌     | 9/20 [06:20<07:44, 42.26s/it]"
     ]
    },
    {
     "name": "stdout",
     "output_type": "stream",
     "text": [
      "Accuracy for k=9: 33.98%\n",
      "Predicting labels...\n"
     ]
    },
    {
     "name": "stderr",
     "output_type": "stream",
     "text": [
      "100%|██████████| 10000/10000 [00:42<00:00, 237.02it/s]\n",
      " 50%|█████     | 10/20 [07:02<07:02, 42.24s/it]"
     ]
    },
    {
     "name": "stdout",
     "output_type": "stream",
     "text": [
      "Accuracy for k=10: 33.86%\n",
      "Predicting labels...\n"
     ]
    },
    {
     "name": "stderr",
     "output_type": "stream",
     "text": [
      "100%|██████████| 10000/10000 [00:42<00:00, 236.79it/s]\n",
      " 55%|█████▌    | 11/20 [07:45<06:20, 42.24s/it]"
     ]
    },
    {
     "name": "stdout",
     "output_type": "stream",
     "text": [
      "Accuracy for k=11: 34.14%\n",
      "Predicting labels...\n"
     ]
    },
    {
     "name": "stderr",
     "output_type": "stream",
     "text": [
      "100%|██████████| 10000/10000 [00:42<00:00, 236.47it/s]\n",
      " 60%|██████    | 12/20 [08:27<05:38, 42.26s/it]"
     ]
    },
    {
     "name": "stdout",
     "output_type": "stream",
     "text": [
      "Accuracy for k=12: 34.29%\n",
      "Predicting labels...\n"
     ]
    },
    {
     "name": "stderr",
     "output_type": "stream",
     "text": [
      "100%|██████████| 10000/10000 [00:42<00:00, 237.21it/s]\n",
      " 65%|██████▌   | 13/20 [09:09<04:55, 42.23s/it]"
     ]
    },
    {
     "name": "stdout",
     "output_type": "stream",
     "text": [
      "Accuracy for k=13: 34.17%\n",
      "Predicting labels...\n"
     ]
    },
    {
     "name": "stderr",
     "output_type": "stream",
     "text": [
      "100%|██████████| 10000/10000 [00:42<00:00, 235.44it/s]\n",
      " 70%|███████   | 14/20 [09:51<04:13, 42.31s/it]"
     ]
    },
    {
     "name": "stdout",
     "output_type": "stream",
     "text": [
      "Accuracy for k=14: 34.07%\n",
      "Predicting labels...\n"
     ]
    },
    {
     "name": "stderr",
     "output_type": "stream",
     "text": [
      "100%|██████████| 10000/10000 [00:42<00:00, 235.05it/s]\n",
      " 75%|███████▌  | 15/20 [10:34<03:31, 42.38s/it]"
     ]
    },
    {
     "name": "stdout",
     "output_type": "stream",
     "text": [
      "Accuracy for k=15: 34.050000000000004%\n",
      "Predicting labels...\n"
     ]
    },
    {
     "name": "stderr",
     "output_type": "stream",
     "text": [
      "100%|██████████| 10000/10000 [00:42<00:00, 235.73it/s]\n",
      " 80%|████████  | 16/20 [11:16<02:49, 42.39s/it]"
     ]
    },
    {
     "name": "stdout",
     "output_type": "stream",
     "text": [
      "Accuracy for k=16: 34.02%\n",
      "Predicting labels...\n"
     ]
    },
    {
     "name": "stderr",
     "output_type": "stream",
     "text": [
      "100%|██████████| 10000/10000 [00:42<00:00, 234.69it/s]\n",
      " 85%|████████▌ | 17/20 [11:59<02:07, 42.46s/it]"
     ]
    },
    {
     "name": "stdout",
     "output_type": "stream",
     "text": [
      "Accuracy for k=17: 34.1%\n",
      "Predicting labels...\n"
     ]
    },
    {
     "name": "stderr",
     "output_type": "stream",
     "text": [
      "100%|██████████| 10000/10000 [00:42<00:00, 234.07it/s]\n",
      " 90%|█████████ | 18/20 [12:42<01:25, 42.54s/it]"
     ]
    },
    {
     "name": "stdout",
     "output_type": "stream",
     "text": [
      "Accuracy for k=18: 33.900000000000006%\n",
      "Predicting labels...\n"
     ]
    },
    {
     "name": "stderr",
     "output_type": "stream",
     "text": [
      "100%|██████████| 10000/10000 [00:42<00:00, 234.26it/s]\n",
      " 95%|█████████▌| 19/20 [13:25<00:42, 42.59s/it]"
     ]
    },
    {
     "name": "stdout",
     "output_type": "stream",
     "text": [
      "Accuracy for k=19: 33.98%\n",
      "Predicting labels...\n"
     ]
    },
    {
     "name": "stderr",
     "output_type": "stream",
     "text": [
      "100%|██████████| 10000/10000 [00:42<00:00, 236.06it/s]\n",
      "100%|██████████| 20/20 [14:07<00:00, 42.37s/it]"
     ]
    },
    {
     "name": "stdout",
     "output_type": "stream",
     "text": [
      "Accuracy for k=20: 33.75%\n"
     ]
    },
    {
     "name": "stderr",
     "output_type": "stream",
     "text": [
      "\n"
     ]
    }
   ],
   "source": [
    "#Classify test images, for a number of choices for K\n",
    "choices = [i+1 for i in range(20)]\n",
    "dists = clf.distances(test_img)\n",
    "scores = []\n",
    "for k in tqdm(choices):\n",
    "    label_pred = clf.predict(dists, k=k) \n",
    "    acc=accuracy_score(label_pred, test_labels)\n",
    "    scores.append(acc)\n",
    "    print('Accuracy for k={}: {}%'.format(k, acc*100))"
   ]
  },
  {
   "cell_type": "code",
   "execution_count": 83,
   "metadata": {},
   "outputs": [
    {
     "data": {
      "image/png": "[encoded data removed]",
      "text/plain": [
       "<Figure size 640x480 with 1 Axes>"
      ]
     },
     "metadata": {},
     "output_type": "display_data"
    }
   ],
   "source": [
    "#Plot k vs. accuracy:\n",
    "plt.plot(choices, 100*np.array(scores), 's')\n",
    "plt.xlabel('k')\n",
    "plt.ylabel('Accuracy (\\%)')\n",
    "plt.show()"
   ]
  },
  {
   "cell_type": "code",
   "execution_count": 78,
   "metadata": {},
   "outputs": [
    {
     "name": "stderr",
     "output_type": "stream",
     "text": [
      "  0%|          | 0/8 [00:00<?, ?it/s]"
     ]
    },
    {
     "name": "stdout",
     "output_type": "stream",
     "text": [
      "Predicting labels...\n"
     ]
    },
    {
     "name": "stderr",
     "output_type": "stream",
     "text": [
      "100%|██████████| 10000/10000 [00:33<00:00, 302.90it/s]\n"
     ]
    },
    {
     "name": "stdout",
     "output_type": "stream",
     "text": [
      "Accuracy:  33.58\n",
      "Predicting labels...\n"
     ]
    },
    {
     "name": "stderr",
     "output_type": "stream",
     "text": [
      "100%|██████████| 10000/10000 [00:33<00:00, 302.07it/s]\n"
     ]
    },
    {
     "name": "stdout",
     "output_type": "stream",
     "text": [
      "Accuracy:  33.61\n",
      "Predicting labels...\n"
     ]
    },
    {
     "name": "stderr",
     "output_type": "stream",
     "text": [
      "100%|██████████| 10000/10000 [00:33<00:00, 302.94it/s]\n"
     ]
    },
    {
     "name": "stdout",
     "output_type": "stream",
     "text": [
      "Accuracy:  34.69\n",
      "Predicting labels...\n"
     ]
    },
    {
     "name": "stderr",
     "output_type": "stream",
     "text": [
      "100%|██████████| 10000/10000 [00:32<00:00, 303.43it/s]\n"
     ]
    },
    {
     "name": "stdout",
     "output_type": "stream",
     "text": [
      "Accuracy:  33.46\n",
      "Predicting labels...\n"
     ]
    },
    {
     "name": "stderr",
     "output_type": "stream",
     "text": [
      "100%|██████████| 10000/10000 [00:32<00:00, 303.68it/s]\n",
      " 12%|█▎        | 1/8 [12:23<1:26:43, 743.32s/it]"
     ]
    },
    {
     "name": "stdout",
     "output_type": "stream",
     "text": [
      "Accuracy:  33.83\n",
      "Predicting labels...\n"
     ]
    },
    {
     "name": "stderr",
     "output_type": "stream",
     "text": [
      "100%|██████████| 10000/10000 [00:32<00:00, 303.41it/s]\n"
     ]
    },
    {
     "name": "stdout",
     "output_type": "stream",
     "text": [
      "Accuracy:  30.680000000000003\n",
      "Predicting labels...\n"
     ]
    },
    {
     "name": "stderr",
     "output_type": "stream",
     "text": [
      "100%|██████████| 10000/10000 [00:32<00:00, 305.04it/s]\n"
     ]
    },
    {
     "name": "stdout",
     "output_type": "stream",
     "text": [
      "Accuracy:  30.320000000000004\n",
      "Predicting labels...\n"
     ]
    },
    {
     "name": "stderr",
     "output_type": "stream",
     "text": [
      "100%|██████████| 10000/10000 [00:32<00:00, 304.16it/s]\n"
     ]
    },
    {
     "name": "stdout",
     "output_type": "stream",
     "text": [
      "Accuracy:  30.819999999999997\n",
      "Predicting labels...\n"
     ]
    },
    {
     "name": "stderr",
     "output_type": "stream",
     "text": [
      "100%|██████████| 10000/10000 [00:32<00:00, 304.16it/s]\n"
     ]
    },
    {
     "name": "stdout",
     "output_type": "stream",
     "text": [
      "Accuracy:  29.959999999999997\n",
      "Predicting labels...\n"
     ]
    },
    {
     "name": "stderr",
     "output_type": "stream",
     "text": [
      "100%|██████████| 10000/10000 [00:32<00:00, 303.76it/s]\n",
      " 25%|██▌       | 2/8 [24:47<1:14:21, 743.55s/it]"
     ]
    },
    {
     "name": "stdout",
     "output_type": "stream",
     "text": [
      "Accuracy:  30.04\n",
      "Predicting labels...\n"
     ]
    },
    {
     "name": "stderr",
     "output_type": "stream",
     "text": [
      "100%|██████████| 10000/10000 [00:33<00:00, 302.98it/s]\n"
     ]
    },
    {
     "name": "stdout",
     "output_type": "stream",
     "text": [
      "Accuracy:  32.6\n",
      "Predicting labels...\n"
     ]
    },
    {
     "name": "stderr",
     "output_type": "stream",
     "text": [
      "100%|██████████| 10000/10000 [00:33<00:00, 302.73it/s]\n"
     ]
    },
    {
     "name": "stdout",
     "output_type": "stream",
     "text": [
      "Accuracy:  32.61\n",
      "Predicting labels...\n"
     ]
    },
    {
     "name": "stderr",
     "output_type": "stream",
     "text": [
      "100%|██████████| 10000/10000 [00:32<00:00, 303.44it/s]\n"
     ]
    },
    {
     "name": "stdout",
     "output_type": "stream",
     "text": [
      "Accuracy:  32.800000000000004\n",
      "Predicting labels...\n"
     ]
    },
    {
     "name": "stderr",
     "output_type": "stream",
     "text": [
      "100%|██████████| 10000/10000 [00:33<00:00, 302.57it/s]\n"
     ]
    },
    {
     "name": "stdout",
     "output_type": "stream",
     "text": [
      "Accuracy:  32.519999999999996\n",
      "Predicting labels...\n"
     ]
    },
    {
     "name": "stderr",
     "output_type": "stream",
     "text": [
      "100%|██████████| 10000/10000 [00:33<00:00, 301.74it/s]\n",
      " 38%|███▊      | 3/8 [37:10<1:01:58, 743.69s/it]"
     ]
    },
    {
     "name": "stdout",
     "output_type": "stream",
     "text": [
      "Accuracy:  31.78\n",
      "Predicting labels...\n"
     ]
    },
    {
     "name": "stderr",
     "output_type": "stream",
     "text": [
      "100%|██████████| 10000/10000 [00:33<00:00, 302.27it/s]\n"
     ]
    },
    {
     "name": "stdout",
     "output_type": "stream",
     "text": [
      "Accuracy:  33.5\n",
      "Predicting labels...\n"
     ]
    },
    {
     "name": "stderr",
     "output_type": "stream",
     "text": [
      "100%|██████████| 10000/10000 [00:33<00:00, 302.31it/s]\n"
     ]
    },
    {
     "name": "stdout",
     "output_type": "stream",
     "text": [
      "Accuracy:  32.97\n",
      "Predicting labels...\n"
     ]
    },
    {
     "name": "stderr",
     "output_type": "stream",
     "text": [
      "100%|██████████| 10000/10000 [00:33<00:00, 298.43it/s]\n"
     ]
    },
    {
     "name": "stdout",
     "output_type": "stream",
     "text": [
      "Accuracy:  33.36\n",
      "Predicting labels...\n"
     ]
    },
    {
     "name": "stderr",
     "output_type": "stream",
     "text": [
      "100%|██████████| 10000/10000 [00:32<00:00, 303.18it/s]\n"
     ]
    },
    {
     "name": "stdout",
     "output_type": "stream",
     "text": [
      "Accuracy:  33.4\n",
      "Predicting labels...\n"
     ]
    },
    {
     "name": "stderr",
     "output_type": "stream",
     "text": [
      "100%|██████████| 10000/10000 [00:32<00:00, 303.89it/s]\n",
      " 50%|█████     | 4/8 [49:36<49:38, 744.64s/it]  "
     ]
    },
    {
     "name": "stdout",
     "output_type": "stream",
     "text": [
      "Accuracy:  32.83\n",
      "Predicting labels...\n"
     ]
    },
    {
     "name": "stderr",
     "output_type": "stream",
     "text": [
      "100%|██████████| 10000/10000 [00:32<00:00, 304.18it/s]\n"
     ]
    },
    {
     "name": "stdout",
     "output_type": "stream",
     "text": [
      "Accuracy:  34.0\n",
      "Predicting labels...\n"
     ]
    },
    {
     "name": "stderr",
     "output_type": "stream",
     "text": [
      "100%|██████████| 10000/10000 [00:32<00:00, 304.81it/s]\n"
     ]
    },
    {
     "name": "stdout",
     "output_type": "stream",
     "text": [
      "Accuracy:  33.300000000000004\n",
      "Predicting labels...\n"
     ]
    },
    {
     "name": "stderr",
     "output_type": "stream",
     "text": [
      "100%|██████████| 10000/10000 [00:32<00:00, 304.00it/s]\n"
     ]
    },
    {
     "name": "stdout",
     "output_type": "stream",
     "text": [
      "Accuracy:  33.56\n",
      "Predicting labels...\n"
     ]
    },
    {
     "name": "stderr",
     "output_type": "stream",
     "text": [
      "100%|██████████| 10000/10000 [00:32<00:00, 303.89it/s]\n"
     ]
    },
    {
     "name": "stdout",
     "output_type": "stream",
     "text": [
      "Accuracy:  33.1\n",
      "Predicting labels...\n"
     ]
    },
    {
     "name": "stderr",
     "output_type": "stream",
     "text": [
      "100%|██████████| 10000/10000 [00:32<00:00, 304.17it/s]\n",
      " 62%|██████▎   | 5/8 [1:02:01<37:13, 744.62s/it]"
     ]
    },
    {
     "name": "stdout",
     "output_type": "stream",
     "text": [
      "Accuracy:  32.37\n",
      "Predicting labels...\n"
     ]
    },
    {
     "name": "stderr",
     "output_type": "stream",
     "text": [
      "100%|██████████| 10000/10000 [00:32<00:00, 304.09it/s]\n"
     ]
    },
    {
     "name": "stdout",
     "output_type": "stream",
     "text": [
      "Accuracy:  33.81\n",
      "Predicting labels...\n"
     ]
    },
    {
     "name": "stderr",
     "output_type": "stream",
     "text": [
      "100%|██████████| 10000/10000 [00:32<00:00, 305.37it/s]\n"
     ]
    },
    {
     "name": "stdout",
     "output_type": "stream",
     "text": [
      "Accuracy:  32.43\n",
      "Predicting labels...\n"
     ]
    },
    {
     "name": "stderr",
     "output_type": "stream",
     "text": [
      "100%|██████████| 10000/10000 [00:32<00:00, 304.56it/s]\n"
     ]
    },
    {
     "name": "stdout",
     "output_type": "stream",
     "text": [
      "Accuracy:  33.07\n",
      "Predicting labels...\n"
     ]
    },
    {
     "name": "stderr",
     "output_type": "stream",
     "text": [
      "100%|██████████| 10000/10000 [00:32<00:00, 304.11it/s]\n"
     ]
    },
    {
     "name": "stdout",
     "output_type": "stream",
     "text": [
      "Accuracy:  33.07\n",
      "Predicting labels...\n"
     ]
    },
    {
     "name": "stderr",
     "output_type": "stream",
     "text": [
      "100%|██████████| 10000/10000 [00:32<00:00, 304.17it/s]\n",
      " 75%|███████▌  | 6/8 [1:14:26<24:49, 744.63s/it]"
     ]
    },
    {
     "name": "stdout",
     "output_type": "stream",
     "text": [
      "Accuracy:  32.32\n",
      "Predicting labels...\n"
     ]
    },
    {
     "name": "stderr",
     "output_type": "stream",
     "text": [
      "100%|██████████| 10000/10000 [00:32<00:00, 304.30it/s]\n"
     ]
    },
    {
     "name": "stdout",
     "output_type": "stream",
     "text": [
      "Accuracy:  33.489999999999995\n",
      "Predicting labels...\n"
     ]
    },
    {
     "name": "stderr",
     "output_type": "stream",
     "text": [
      "100%|██████████| 10000/10000 [00:32<00:00, 304.99it/s]\n"
     ]
    },
    {
     "name": "stdout",
     "output_type": "stream",
     "text": [
      "Accuracy:  32.49\n",
      "Predicting labels...\n"
     ]
    },
    {
     "name": "stderr",
     "output_type": "stream",
     "text": [
      "100%|██████████| 10000/10000 [00:32<00:00, 303.61it/s]\n"
     ]
    },
    {
     "name": "stdout",
     "output_type": "stream",
     "text": [
      "Accuracy:  32.66\n",
      "Predicting labels...\n"
     ]
    },
    {
     "name": "stderr",
     "output_type": "stream",
     "text": [
      "100%|██████████| 10000/10000 [00:32<00:00, 303.54it/s]\n"
     ]
    },
    {
     "name": "stdout",
     "output_type": "stream",
     "text": [
      "Accuracy:  32.83\n",
      "Predicting labels...\n"
     ]
    },
    {
     "name": "stderr",
     "output_type": "stream",
     "text": [
      "100%|██████████| 10000/10000 [00:32<00:00, 304.24it/s]\n",
      " 88%|████████▊ | 7/8 [1:26:57<12:26, 746.85s/it]"
     ]
    },
    {
     "name": "stdout",
     "output_type": "stream",
     "text": [
      "Accuracy:  31.990000000000002\n",
      "Predicting labels...\n"
     ]
    },
    {
     "name": "stderr",
     "output_type": "stream",
     "text": [
      "100%|██████████| 10000/10000 [00:32<00:00, 304.31it/s]\n"
     ]
    },
    {
     "name": "stdout",
     "output_type": "stream",
     "text": [
      "Accuracy:  32.46\n",
      "Predicting labels...\n"
     ]
    },
    {
     "name": "stderr",
     "output_type": "stream",
     "text": [
      "100%|██████████| 10000/10000 [00:32<00:00, 304.85it/s]\n"
     ]
    },
    {
     "name": "stdout",
     "output_type": "stream",
     "text": [
      "Accuracy:  31.78\n",
      "Predicting labels...\n"
     ]
    },
    {
     "name": "stderr",
     "output_type": "stream",
     "text": [
      "100%|██████████| 10000/10000 [00:32<00:00, 304.00it/s]\n"
     ]
    },
    {
     "name": "stdout",
     "output_type": "stream",
     "text": [
      "Accuracy:  32.39\n",
      "Predicting labels...\n"
     ]
    },
    {
     "name": "stderr",
     "output_type": "stream",
     "text": [
      "100%|██████████| 10000/10000 [00:32<00:00, 303.78it/s]\n"
     ]
    },
    {
     "name": "stdout",
     "output_type": "stream",
     "text": [
      "Accuracy:  32.22\n",
      "Predicting labels...\n"
     ]
    },
    {
     "name": "stderr",
     "output_type": "stream",
     "text": [
      "100%|██████████| 10000/10000 [00:32<00:00, 304.28it/s]\n",
      "100%|██████████| 8/8 [1:39:29<00:00, 746.20s/it]"
     ]
    },
    {
     "name": "stdout",
     "output_type": "stream",
     "text": [
      "Accuracy:  31.3\n"
     ]
    },
    {
     "name": "stderr",
     "output_type": "stream",
     "text": [
      "\n"
     ]
    }
   ],
   "source": [
    "n_splits = 5\n",
    "ks = np.floor(np.logspace(np.log10(1.5), np.log10(25), 7+1)).astype(int) \n",
    "\n",
    "trn_img_split = []\n",
    "trn_labels_split = []\n",
    "\n",
    "trn_img_split = np.array_split(train_img, n_splits)\n",
    "trn_labels_split = np.array_split(train_labels, n_splits)\n",
    "\n",
    "k_acc_pairs = {} \n",
    "\n",
    "for k in tqdm(ks):\n",
    "    k_acc_pairs[k] = []\n",
    "    for split in range(n_splits):\n",
    "        tst_img = trn_img_split[split]\n",
    "        tst_lbl = trn_labels_split[split]\n",
    "        trn_img = trn_img_split\n",
    "        trn_labels = trn_labels_split\n",
    "        \n",
    "        trn_img = np.delete(trn_img,split,0)\n",
    "        trn_img = np.concatenate((trn_img),axis = 0)\n",
    "        trn_labels = np.delete(trn_labels,split,0)\n",
    "        trn_labels = np.concatenate((trn_labels),axis = 0)\n",
    "        \n",
    "        clf = KNN()\n",
    "        clf.fit(trn_img, trn_labels)\n",
    "        dists = clf.distances(tst_img)\n",
    "        pred = clf.predict(dists, k)\n",
    "\n",
    "        accuracy = accuracy_score(tst_lbl, pred)\n",
    "\n",
    "        print('Accuracy: ', 100*accuracy)\n",
    "\n",
    "        k_acc_pairs[k].append(accuracy)"
   ]
  },
  {
   "cell_type": "code",
   "execution_count": 101,
   "metadata": {},
   "outputs": [
    {
     "data": {
      "image/png": "[encoded data removed]",
      "text/plain": [
       "<Figure size 640x480 with 1 Axes>"
      ]
     },
     "metadata": {},
     "output_type": "display_data"
    }
   ],
   "source": [
    "cycle = plt.rcParams['axes.prop_cycle'].by_key()['color']\n",
    "for k in ks:\n",
    "    accuracies = np.array(k_acc_pairs[k])\n",
    "    plt.scatter([k] * len(accuracies), 100*accuracies, color=cycle[0], marker='o', s=10)\n",
    "\n",
    "ac_mean = np.array([np.mean(v) for k,v in sorted(k_acc_pairs.items())])\n",
    "ac_std = np.array([np.std(v) for k,v in sorted(k_acc_pairs.items())])\n",
    "plt.plot(ks, 100*ac_mean, color=cycle[1])\n",
    "plt.fill_between(ks, 100*(ac_mean-ac_std), 100*(ac_mean+ac_std), alpha=0.4, color=cycle[1])\n",
    "plt.fill_between(ks, 100*(ac_mean-2*ac_std), 100*(ac_mean+2*ac_std), alpha=0.2, color=cycle[1])\n",
    "plt.title('Cross-validation')\n",
    "plt.ylabel('CV Accuracy (\\%)')\n",
    "plt.xlabel('k')\n",
    "plt.show()"
   ]
  }
 ],
 "metadata": {
  "kernelspec": {
   "display_name": "codeenv",
   "language": "python",
   "name": "python3"
  },
  "language_info": {
   "codemirror_mode": {
    "name": "ipython",
    "version": 3
   },
   "file_extension": ".py",
   "mimetype": "text/x-python",
   "name": "python",
   "nbconvert_exporter": "python",
   "pygments_lexer": "ipython3",
   "version": "3.9.17"
  }
 },
 "nbformat": 4,
 "nbformat_minor": 2
}
